{
 "cells": [
  {
   "cell_type": "code",
   "execution_count": null,
   "metadata": {},
   "outputs": [],
   "source": [
    "import torch \n",
    "import matplotlib.pyplot as plt\n",
    "%matplotlib inline\n",
    "from ipywidgets import interact, fixed, IntSlider, FloatSlider\n",
    "\n",
    "from lab2 import grad, GD, momentum, Nesterov, plot_3D, plot_3D_GD, plot_2D_GD_interactive, err"
   ]
  },
  {
   "cell_type": "markdown",
   "metadata": {},
   "source": [
    "## Esempio 2"
   ]
  },
  {
   "cell_type": "code",
   "execution_count": null,
   "metadata": {},
   "outputs": [],
   "source": [
    "def g(x,y):\n",
    "    return 2/5 -(1/10)*(5*x**2 + 5*y**2 + 6*x*y - x - 2*y)*torch.exp(-(x**2+y**2))\n",
    "\n",
    "x = torch.linspace(-2,2,100).requires_grad_(True)\n",
    "y = torch.linspace(-2,2,100).requires_grad_(True)\n",
    "\n",
    "plot_3D(x,y,g)"
   ]
  },
  {
   "cell_type": "markdown",
   "metadata": {},
   "source": [
    "### GD"
   ]
  },
  {
   "cell_type": "code",
   "execution_count": null,
   "metadata": {},
   "outputs": [],
   "source": [
    "x_0, y_0 = -0, 0\n",
    "learning_rate = 0.1\n",
    "num_epochs = 10\n",
    "\n",
    "gd = GD(x_0,y_0,learning_rate,num_epochs,g)\n",
    "fig_3D = plot_3D_GD(x, y, gd[:,0], gd[:,1], g)\n",
    "fig_3D.show()"
   ]
  },
  {
   "cell_type": "code",
   "execution_count": null,
   "metadata": {},
   "outputs": [],
   "source": [
    "%matplotlib inline\n",
    "_ = interact(plot_2D_GD_interactive, \n",
    "            method = fixed('gd'),\n",
    "             x = fixed(x), \n",
    "             y = fixed(y), \n",
    "             x_min = fixed(-0.63), \n",
    "             y_min = fixed(-0.70), \n",
    "             fun = fixed(g), \n",
    "             x_0 = FloatSlider(min=-2, max=2, step=0.1, value=0),\n",
    "             y_0 = FloatSlider(min=-2, max=2, step=0.1, value=0),\n",
    "             eta = FloatSlider(min = 0, max = 1, step = 0.01, value=0.2), \n",
    "             num_epochs = IntSlider(min = 1, max = 100, step = 1, value=10))"
   ]
  },
  {
   "cell_type": "markdown",
   "metadata": {},
   "source": [
    "### Momentum"
   ]
  },
  {
   "cell_type": "code",
   "execution_count": null,
   "metadata": {},
   "outputs": [],
   "source": [
    "V = torch.zeros(2)\n",
    "learning_rate = 0.2\n",
    "num_epochs = 10\n",
    "beta = 0.5\n",
    "\n",
    "mom = momentum(x_0,y_0,V,beta,learning_rate,num_epochs,g)\n",
    "\n",
    "fig_3D = plot_3D_GD(x,y,mom[:,0],mom[:,1],g)\n",
    "fig_3D.show()\n"
   ]
  },
  {
   "cell_type": "code",
   "execution_count": null,
   "metadata": {},
   "outputs": [],
   "source": [
    "%matplotlib inline\n",
    "_ = interact(plot_2D_GD_interactive, \n",
    "            method = fixed('momentum'),\n",
    "             x = fixed(x), \n",
    "             y = fixed(y), \n",
    "             x_min = fixed(-0.63), \n",
    "             y_min = fixed(-0.70), \n",
    "             fun = fixed(g), \n",
    "             x_0 = FloatSlider(min=-2, max=2, step=0.1, value=0),\n",
    "             y_0 = FloatSlider(min=-2, max=2, step=0.1, value=0),\n",
    "             eta = FloatSlider(min = 0, max = 1, step = 0.01, value=0.2), \n",
    "             num_epochs = IntSlider(min = 1, max = 100, step = 1, value=10))"
   ]
  },
  {
   "cell_type": "markdown",
   "metadata": {},
   "source": [
    "### Nesterov"
   ]
  },
  {
   "cell_type": "code",
   "execution_count": null,
   "metadata": {},
   "outputs": [],
   "source": [
    "beta = 0.5\n",
    "nes = Nesterov(x_0,y_0,V,beta,learning_rate,num_epochs,g)\n",
    "\n",
    "fig_3D = plot_3D_GD(x,y,nes[:,0],nes[:,1],g)\n",
    "fig_3D.show()"
   ]
  },
  {
   "cell_type": "code",
   "execution_count": null,
   "metadata": {},
   "outputs": [],
   "source": [
    "%matplotlib inline\n",
    "_ = interact(plot_2D_GD_interactive, \n",
    "            method = fixed('nesterov'),\n",
    "             x = fixed(x), \n",
    "             y = fixed(y), \n",
    "             x_min = fixed(-0.63), \n",
    "             y_min = fixed(-0.70), \n",
    "             fun = fixed(g), \n",
    "             x_0 = FloatSlider(min=-2, max=2, step=0.1, value=0),\n",
    "             y_0 = FloatSlider(min=-2, max=2, step=0.1, value=0),\n",
    "             eta = FloatSlider(min = 0, max = 1, step = 0.01, value=0.2), \n",
    "             num_epochs = IntSlider(min = 1, max = 100, step = 1, value=10))"
   ]
  },
  {
   "cell_type": "code",
   "execution_count": null,
   "metadata": {},
   "outputs": [],
   "source": [
    "min_glob = torch.Tensor([-0.63,-0.7])\n",
    "dist_err_gd = err(gd,min_glob,g)\n",
    "dist_err_mom = err(mom,min_glob,g)\n",
    "dist_err_nes = err(nes,min_glob,g)\n",
    "\n",
    "N = range(num_epochs)\n",
    "plt.semilogy(N,dist_err_gd, marker = 'o', label = 'GD')\n",
    "plt.semilogy(N,dist_err_mom,marker = 'x', label = 'Momentum')\n",
    "plt.semilogy(N,dist_err_nes,marker = 'd', label = 'Nesterov')\n",
    "\n",
    "plt.grid()\n",
    "plt.xlabel('Epochs')\n",
    "plt.title('Distance from the global min')\n",
    "plt.legend()\n",
    "plt.show()\n"
   ]
  }
 ],
 "metadata": {
  "kernelspec": {
   "display_name": "base",
   "language": "python",
   "name": "python3"
  },
  "language_info": {
   "codemirror_mode": {
    "name": "ipython",
    "version": 3
   },
   "file_extension": ".py",
   "mimetype": "text/x-python",
   "name": "python",
   "nbconvert_exporter": "python",
   "pygments_lexer": "ipython3",
   "version": "3.12.2"
  }
 },
 "nbformat": 4,
 "nbformat_minor": 2
}
