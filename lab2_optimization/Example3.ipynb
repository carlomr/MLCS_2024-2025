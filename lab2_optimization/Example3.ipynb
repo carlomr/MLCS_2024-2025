{
 "cells": [
  {
   "cell_type": "code",
   "execution_count": null,
   "metadata": {},
   "outputs": [],
   "source": [
    "import torch \n",
    "import matplotlib.pyplot as plt\n",
    "%matplotlib inline\n",
    "from ipywidgets import interact, fixed, IntSlider, FloatSlider\n",
    "\n",
    "from lab2 import grad, GD, momentum, Nesterov, plot_3D, plot_3D_GD, plot_2D_GD_interactive, err"
   ]
  },
  {
   "cell_type": "markdown",
   "metadata": {},
   "source": [
    "## Esempio 3"
   ]
  },
  {
   "cell_type": "code",
   "execution_count": null,
   "metadata": {},
   "outputs": [],
   "source": [
    "def h(x,y):\n",
    "    return (1-x)**2+100*(y-x**2)**2\n",
    "\n",
    "x = torch.linspace(-1.5,1.5,100).requires_grad_(True)\n",
    "y = torch.linspace(-1,3,100).requires_grad_(True)\n",
    "\n",
    "plot_3D(x,y,h)"
   ]
  },
  {
   "cell_type": "markdown",
   "metadata": {},
   "source": [
    "### GD"
   ]
  },
  {
   "cell_type": "code",
   "execution_count": null,
   "metadata": {},
   "outputs": [],
   "source": [
    "x_0, y_0 = -1, -0.5\n",
    "learning_rate = 0.002\n",
    "num_epochs = 40\n",
    "\n",
    "gd = GD(x_0,y_0,learning_rate,num_epochs,h)\n",
    "plot_3D = plot_3D_GD(x,y,gd[:,0],gd[:,1],h)\n",
    "# plot_3D.update_layout(\n",
    "#     scene=dict(\n",
    "#         zaxis=dict(\n",
    "#             type='log',\n",
    "#             title='log(f(x, y))'\n",
    "#         )\n",
    "#     )\n",
    "# )\n",
    "plot_3D.show()"
   ]
  },
  {
   "cell_type": "code",
   "execution_count": null,
   "metadata": {},
   "outputs": [],
   "source": [
    "%matplotlib inline\n",
    "_ = interact(plot_2D_GD_interactive, \n",
    "            method = fixed('gd'),\n",
    "             x = fixed(x), \n",
    "             y = fixed(y), \n",
    "             x_min = fixed(1), \n",
    "             y_min = fixed(1), \n",
    "             fun = fixed(h), \n",
    "             x_0 = FloatSlider(min=-1.5, max=1.5, step=0.1, value=-1),\n",
    "             y_0 = FloatSlider(min=-1, max=3, step=0.1, value=-0.5),\n",
    "             eta = FloatSlider(min = 0, max = 0.004, step = 0.0005, value=0.002, readout_format='.4f'), \n",
    "             num_epochs = IntSlider(min = 1, max = 100, step = 1, value=10))"
   ]
  },
  {
   "cell_type": "markdown",
   "metadata": {},
   "source": [
    "### Momentum\n"
   ]
  },
  {
   "cell_type": "code",
   "execution_count": null,
   "metadata": {},
   "outputs": [],
   "source": [
    "V = torch.zeros(2)\n",
    "learning_rate = 0.002\n",
    "num_epochs = 10\n",
    "beta = 0.5\n",
    "\n",
    "mom = momentum(x_0,y_0,V,beta,learning_rate,num_epochs,h)\n",
    "\n",
    "fig_3D = plot_3D_GD(x,y,mom[:,0],mom[:,1],h)\n",
    "fig_3D.show()"
   ]
  },
  {
   "cell_type": "code",
   "execution_count": null,
   "metadata": {},
   "outputs": [],
   "source": [
    "%matplotlib inline\n",
    "_ = interact(plot_2D_GD_interactive, \n",
    "            method = fixed('momentum'),\n",
    "             x = fixed(x), \n",
    "             y = fixed(y), \n",
    "             x_min = fixed(1), \n",
    "             y_min = fixed(1), \n",
    "             fun = fixed(h), \n",
    "             x_0 = FloatSlider(min=-1.5, max=1.5, step=0.1, value=-1),\n",
    "             y_0 = FloatSlider(min=-1, max=3, step=0.1, value=-0.5),\n",
    "             eta = FloatSlider(min = 0, max = 0.004, step = 0.0005, value=0.002, readout_format='.4f'), \n",
    "             num_epochs = IntSlider(min = 1, max = 100, step = 1, value=10))"
   ]
  },
  {
   "cell_type": "markdown",
   "metadata": {},
   "source": [
    "### Nesterov"
   ]
  },
  {
   "cell_type": "code",
   "execution_count": null,
   "metadata": {},
   "outputs": [],
   "source": [
    "beta = 0.49\n",
    "nes = Nesterov(x_0,y_0,V,beta,learning_rate,num_epochs,h)\n",
    "\n",
    "fig_3D = plot_3D_GD(x,y,nes[:,0],nes[:,1],h)\n",
    "fig_3D.show()"
   ]
  },
  {
   "cell_type": "code",
   "execution_count": null,
   "metadata": {},
   "outputs": [],
   "source": [
    "%matplotlib inline\n",
    "_ = interact(plot_2D_GD_interactive, \n",
    "            method = fixed('nesterov'),\n",
    "             x = fixed(x), \n",
    "             y = fixed(y), \n",
    "             x_min = fixed(1), \n",
    "             y_min = fixed(1), \n",
    "             fun = fixed(h), \n",
    "             x_0 = FloatSlider(min=-1.5, max=1.5, step=0.1, value=-1),\n",
    "             y_0 = FloatSlider(min=-1, max=3, step=0.1, value=-0.5),\n",
    "             eta = FloatSlider(min = 0, max = 0.004, step = 0.0005, value=0.002, readout_format='.4f'), \n",
    "             num_epochs = IntSlider(min = 1, max = 100, step = 1, value=10))"
   ]
  },
  {
   "cell_type": "code",
   "execution_count": null,
   "metadata": {},
   "outputs": [],
   "source": [
    "min_glob = torch.Tensor([1,1])\n",
    "dist_err_gd = err(gd,min_glob,h)\n",
    "dist_err_mom = err(mom,min_glob,h)\n",
    "dist_err_nes = err(nes,min_glob,h)\n",
    "N = range(num_epochs)\n",
    "plt.semilogy(N,dist_err_gd, marker = 'o', label = 'GD')\n",
    "plt.semilogy(N,dist_err_mom,marker = 'x', label = 'Momentum')\n",
    "plt.semilogy(N,dist_err_nes,marker = 'd', label = 'Nesterov')\n",
    "\n",
    "plt.grid()\n",
    "plt.xlabel('Epochs')\n",
    "plt.title('Distance from the global min')\n",
    "plt.legend()\n",
    "plt.show()"
   ]
  }
 ],
 "metadata": {
  "kernelspec": {
   "display_name": "base",
   "language": "python",
   "name": "python3"
  },
  "language_info": {
   "codemirror_mode": {
    "name": "ipython",
    "version": 3
   },
   "file_extension": ".py",
   "mimetype": "text/x-python",
   "name": "python",
   "nbconvert_exporter": "python",
   "pygments_lexer": "ipython3",
   "version": "3.12.2"
  }
 },
 "nbformat": 4,
 "nbformat_minor": 2
}
